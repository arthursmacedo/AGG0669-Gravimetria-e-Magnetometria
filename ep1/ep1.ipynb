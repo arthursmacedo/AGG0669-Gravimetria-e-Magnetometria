{
 "cells": [
  {
   "cell_type": "code",
   "execution_count": 1,
   "metadata": {
    "id": "P_ivj8ZOBAK2"
   },
   "outputs": [],
   "source": [
    "import numpy as np\n",
    "import matplotlib.pyplot as plt\n",
    "import os"
   ]
  },
  {
   "cell_type": "code",
   "execution_count": 2,
   "metadata": {
    "id": "l2dBSF-NBAK4",
    "outputId": "2cc038ea-85f8-48a4-84f5-a89589b91225"
   },
   "outputs": [],
   "source": [
    "arquivo = 'grandeSP.dat'\n",
    "output_file = 'grandeSP_gamma.dat'\n",
    "\n",
    "def gamma_formula_1(lat_rad):\n",
    "    return 9.78049 * (1 + 0.0052884 * np.sin(lat_rad)**2 - 0.0000059 * np.sin(2 * lat_rad)**2)\n",
    "\n",
    "def gamma_formula_2(lat_rad):\n",
    "    return 9.78031846 * (1 + 0.0053024 * np.sin(lat_rad)**2 - 0.0000058 * np.sin(2 * lat_rad)**2)\n",
    "\n",
    "def gamma_formula_3(lat_rad):\n",
    "    numerator = 1 + 0.00193185138639 * np.sin(lat_rad)**2\n",
    "    denominator = np.sqrt(1 - 0.00669437999013 * np.sin(lat_rad)**2)\n",
    "    return 9.7803267714 * (numerator / denominator)\n",
    "\n",
    "with open(arquivo, 'r') as f:\n",
    "    linhas = [linha.strip() for linha in f if linha.strip()]\n",
    "\n",
    "with open(output_file, 'w') as output:\n",
    "    for i, linha in enumerate(linhas):\n",
    "        partes = linha.split()  # separa por qualquer quantidade de espaços\n",
    "        if len(partes) >= 2:\n",
    "            try:\n",
    "                latitude_graus = float(partes[0])  # segunda coluna\n",
    "                latitude_rad = np.radians(latitude_graus)\n",
    "\n",
    "                g1 = gamma_formula_1(latitude_rad)\n",
    "                g2 = gamma_formula_2(latitude_rad)\n",
    "                g3 = gamma_formula_3(latitude_rad)\n",
    "\n",
    "                partes.extend([\n",
    "                    f'{g1:.6f}', f'{g2:.6f}', f'{g3:.6f}'\n",
    "                ])\n",
    "            except ValueError:\n",
    "                partes.extend(['Erro1', 'Erro2', 'Erro3'])\n",
    "        else:\n",
    "            partes.extend(['FaltamDados', 'FaltamDados', 'FaltamDados'])\n",
    "\n",
    "        output.write(' '.join(partes) + '\\n')\n"
   ]
  },
  {
   "cell_type": "code",
   "execution_count": null,
   "metadata": {
    "id": "nNcSa_MfBALC"
   },
   "outputs": [],
   "source": []
  }
 ],
 "metadata": {
  "colab": {
   "provenance": []
  },
  "kernelspec": {
   "display_name": "Python 3 (ipykernel)",
   "language": "python",
   "name": "python3"
  },
  "language_info": {
   "codemirror_mode": {
    "name": "ipython",
    "version": 3
   },
   "file_extension": ".py",
   "mimetype": "text/x-python",
   "name": "python",
   "nbconvert_exporter": "python",
   "pygments_lexer": "ipython3",
   "version": "3.10.13"
  }
 },
 "nbformat": 4,
 "nbformat_minor": 4
}
